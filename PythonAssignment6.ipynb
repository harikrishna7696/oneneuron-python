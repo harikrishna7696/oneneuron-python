{
 "cells": [
  {
   "cell_type": "markdown",
   "id": "d37a61a5",
   "metadata": {},
   "source": [
    "## Assignment 6"
   ]
  },
  {
   "cell_type": "markdown",
   "id": "29f916ed",
   "metadata": {},
   "source": [
    "### 1. What are escape characters, and how do you use them?"
   ]
  },
  {
   "cell_type": "markdown",
   "id": "5955e7ab",
   "metadata": {},
   "source": [
    "there are 10 escaping characters in python, ex:"
   ]
  },
  {
   "cell_type": "code",
   "execution_count": 19,
   "id": "5cf08524",
   "metadata": {},
   "outputs": [
    {
     "name": "stdout",
     "output_type": "stream",
     "text": [
      "hello' world\n",
      "hello\"world\n",
      "hell\n",
      "world\n",
      "world\n",
      "hello\tworld\n",
      "hello\bworld\n"
     ]
    }
   ],
   "source": [
    "# to escape single quote character use \\ back splash\n",
    "print('hello\\' world')\n",
    "\n",
    "# to escape double quote character use \\\\ back splash\n",
    "print(\"hello\\\"world\")\n",
    "\n",
    "# to print line in next line use \\n\n",
    "print(\"hell\\nworld\")\n",
    "\n",
    "# To escape carriage return character, use a preceding backslash for character ‘r’ in the string.\n",
    "print(\"hello\\rworld\")\n",
    "\n",
    "#To escape tab character, use a preceding backslash for character ‘t’ in the string\n",
    "print('hello\\tworld')\n",
    "\n",
    "# To escape backspace character, use a preceding backslash for character ‘b’ in the string.\n",
    "print(\"hello\\bworld\")"
   ]
  },
  {
   "cell_type": "markdown",
   "id": "ebd394a6",
   "metadata": {},
   "source": [
    "### 2. What do the escape characters n and t stand for?"
   ]
  },
  {
   "cell_type": "markdown",
   "id": "571c8092",
   "metadata": {},
   "source": [
    "ans: n is stand for print new line, \n",
    "    t is tab space it create a space between 2 strings"
   ]
  },
  {
   "cell_type": "code",
   "execution_count": 20,
   "id": "73b294b5",
   "metadata": {},
   "outputs": [
    {
     "name": "stdout",
     "output_type": "stream",
     "text": [
      "hello\n",
      "world\n",
      "hari\tkrishna\n"
     ]
    }
   ],
   "source": [
    "print(\"hello\\nworld\")\n",
    "print(\"hari\\tkrishna\")"
   ]
  },
  {
   "cell_type": "markdown",
   "id": "e568810d",
   "metadata": {},
   "source": [
    "### 3. What is the way to include backslash characters in a string?"
   ]
  },
  {
   "cell_type": "markdown",
   "id": "015704c1",
   "metadata": {},
   "source": [
    "ans: The backslash \\ character is used to escape characters that otherwise have a special meaning, such as newline, backslash itself, or the quote character."
   ]
  },
  {
   "cell_type": "code",
   "execution_count": 24,
   "id": "bc7c270a",
   "metadata": {},
   "outputs": [
    {
     "name": "stdout",
     "output_type": "stream",
     "text": [
      "hello '' world\n"
     ]
    }
   ],
   "source": [
    "print(\"hello \\'' world\")"
   ]
  },
  {
   "cell_type": "markdown",
   "id": "24e8cecd",
   "metadata": {},
   "source": [
    "### 4. The string &quot;Howl&#39;s Moving Castle&quot; is a correct value. Why isn&#39;t the single quote character in the word Howl&#39;s not escaped a problem?"
   ]
  },
  {
   "cell_type": "markdown",
   "id": "361beea1",
   "metadata": {},
   "source": [
    "ans: The single quote in Howl's is fine because you've used double quotes to mark the beginning and end of the string."
   ]
  },
  {
   "cell_type": "markdown",
   "id": "cfa060c0",
   "metadata": {},
   "source": [
    "### 5. How do you write a string of newlines if you don&#39;t want to use the n character?"
   ]
  },
  {
   "cell_type": "code",
   "execution_count": 25,
   "id": "d86797b9",
   "metadata": {},
   "outputs": [
    {
     "name": "stdout",
     "output_type": "stream",
     "text": [
      "hello\n",
      "world\n"
     ]
    }
   ],
   "source": [
    "print(\"hello\")\n",
    "print(\"world\")"
   ]
  },
  {
   "cell_type": "markdown",
   "id": "5b40b142",
   "metadata": {},
   "source": [
    "### 6. What are the values of the given expressions?\n",
    "#### &#39;Hello, world!&#39;[1]\n",
    "##### &#39;Hello, world!&#39;[0:5]\n",
    "##### &#39;Hello, world!&#39;[:5]\n",
    "##### &#39;Hello, world!&#39;[3:]"
   ]
  },
  {
   "cell_type": "code",
   "execution_count": 27,
   "id": "7d35edb3",
   "metadata": {},
   "outputs": [
    {
     "name": "stdout",
     "output_type": "stream",
     "text": [
      "e\n",
      "Hello\n",
      "Hello\n",
      "lo, World!\n"
     ]
    }
   ],
   "source": [
    "a = 'Hello, World!'\n",
    "print(a[1])\n",
    "print(a[0:5])\n",
    "print(a[:5])\n",
    "print(a[3:])"
   ]
  },
  {
   "cell_type": "markdown",
   "id": "3632cae6",
   "metadata": {},
   "source": [
    "### 7. What are the values of the following expressions?\n",
    "#### &#39;Hello&#39;.upper()\n",
    "#### &#39;Hello&#39;.upper().isupper()\n",
    "#### &#39;Hello&#39;.upper().lower()"
   ]
  },
  {
   "cell_type": "code",
   "execution_count": 31,
   "id": "e6a68fd4",
   "metadata": {},
   "outputs": [
    {
     "name": "stdout",
     "output_type": "stream",
     "text": [
      "HELLO\n",
      "True\n",
      "hello\n"
     ]
    }
   ],
   "source": [
    "a = 'Hello'\n",
    "print(a.upper())\n",
    "print(a.upper().isupper())\n",
    "print(a.upper().lower())"
   ]
  },
  {
   "cell_type": "markdown",
   "id": "e6d70766",
   "metadata": {},
   "source": [
    "### 8. What are the values of the following expressions? &#39;Remember, remember, the fifth of July.&#39;.split() &#39;-&#39;.join(&#39;There can only one.&#39;.split())"
   ]
  },
  {
   "cell_type": "code",
   "execution_count": 37,
   "id": "00857d75",
   "metadata": {},
   "outputs": [
    {
     "name": "stdout",
     "output_type": "stream",
     "text": [
      "0\n",
      "1\n",
      "2\n"
     ]
    }
   ],
   "source": [
    "for i in range(10):\n",
    "    if i == 3:\n",
    "        break\n",
    "    print(i)"
   ]
  },
  {
   "cell_type": "markdown",
   "id": "787dc674",
   "metadata": {},
   "source": [
    "ans: The expressions evaluate to the following: ['Remember,', 'remember,', 'the', 'fifth', 'of', 'November.'] 'There-can-be-only-one."
   ]
  },
  {
   "cell_type": "markdown",
   "id": "072a77d6",
   "metadata": {},
   "source": [
    "### 9. What are the methods for right-justifying, left-justifying, and centering a string?"
   ]
  },
  {
   "cell_type": "markdown",
   "id": "74ad6228",
   "metadata": {},
   "source": [
    "ans: The rjust(), ljust(), and center() string methods, respectively"
   ]
  },
  {
   "cell_type": "markdown",
   "id": "72df5ce1",
   "metadata": {},
   "source": [
    "### 10. What is the best way to remove whitespace characters from the start or end?"
   ]
  },
  {
   "cell_type": "markdown",
   "id": "9c728697",
   "metadata": {},
   "source": [
    "ans: The lstrip() and rstrip() methods remove whitespace from the left and right ends of a string, respectively."
   ]
  }
 ],
 "metadata": {
  "kernelspec": {
   "display_name": "Python 3 (ipykernel)",
   "language": "python",
   "name": "python3"
  },
  "language_info": {
   "codemirror_mode": {
    "name": "ipython",
    "version": 3
   },
   "file_extension": ".py",
   "mimetype": "text/x-python",
   "name": "python",
   "nbconvert_exporter": "python",
   "pygments_lexer": "ipython3",
   "version": "3.9.7"
  }
 },
 "nbformat": 4,
 "nbformat_minor": 5
}
