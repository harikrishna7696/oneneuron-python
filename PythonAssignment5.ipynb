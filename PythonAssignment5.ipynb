{
 "cells": [
  {
   "cell_type": "markdown",
   "id": "48b9e61c",
   "metadata": {},
   "source": [
    "## Assignment 5"
   ]
  },
  {
   "cell_type": "markdown",
   "id": "1d18d6a0",
   "metadata": {},
   "source": [
    "### 1. What does an empty dictionary&#39;s code look like?"
   ]
  },
  {
   "cell_type": "markdown",
   "id": "6d9a4e1c",
   "metadata": {},
   "source": [
    "ans: An empty dictionary without any items is written with just two curly braces{} or dict() function"
   ]
  },
  {
   "cell_type": "markdown",
   "id": "4384cc62",
   "metadata": {},
   "source": [
    "### 2. What is the value of a dictionary value with the key &#39;foo&#39; and the value 42?"
   ]
  },
  {
   "cell_type": "code",
   "execution_count": 5,
   "id": "a4b3c8f5",
   "metadata": {},
   "outputs": [
    {
     "data": {
      "text/plain": [
       "dict"
      ]
     },
     "execution_count": 5,
     "metadata": {},
     "output_type": "execute_result"
    }
   ],
   "source": [
    "d = {'foo':42} #this is value of dictionary\n",
    "type(d)"
   ]
  },
  {
   "cell_type": "markdown",
   "id": "f22684a7",
   "metadata": {},
   "source": [
    "### 3. What is the most significant distinction between a dictionary and a list?"
   ]
  },
  {
   "cell_type": "markdown",
   "id": "0e1959c6",
   "metadata": {},
   "source": [
    "ans: dictionary stores the data in form of key value pairs <==>\n",
    "List store any data type it store based on indexes"
   ]
  },
  {
   "cell_type": "markdown",
   "id": "48d8371d",
   "metadata": {},
   "source": [
    "### 4. What happens if you try to access spam[&#39;foo&#39;] if spam is {&#39;bar&#39;: 100}?"
   ]
  },
  {
   "cell_type": "markdown",
   "id": "aa89fa54",
   "metadata": {},
   "source": [
    "It through the key error, becaue in dict the key 'bar' so key did not match it through key error"
   ]
  },
  {
   "cell_type": "code",
   "execution_count": 6,
   "id": "c59c9be7",
   "metadata": {},
   "outputs": [
    {
     "ename": "KeyError",
     "evalue": "'foo'",
     "output_type": "error",
     "traceback": [
      "\u001b[1;31m---------------------------------------------------------------------------\u001b[0m",
      "\u001b[1;31mKeyError\u001b[0m                                  Traceback (most recent call last)",
      "\u001b[1;32m~\\AppData\\Local\\Temp/ipykernel_11080/4026577702.py\u001b[0m in \u001b[0;36m<module>\u001b[1;34m\u001b[0m\n\u001b[0;32m      1\u001b[0m \u001b[0mspam\u001b[0m \u001b[1;33m=\u001b[0m \u001b[1;33m{\u001b[0m\u001b[1;34m'bar'\u001b[0m\u001b[1;33m:\u001b[0m\u001b[1;36m100\u001b[0m\u001b[1;33m}\u001b[0m\u001b[1;33m\u001b[0m\u001b[1;33m\u001b[0m\u001b[0m\n\u001b[1;32m----> 2\u001b[1;33m \u001b[0mspam\u001b[0m\u001b[1;33m[\u001b[0m\u001b[1;34m'foo'\u001b[0m\u001b[1;33m]\u001b[0m\u001b[1;33m\u001b[0m\u001b[1;33m\u001b[0m\u001b[0m\n\u001b[0m",
      "\u001b[1;31mKeyError\u001b[0m: 'foo'"
     ]
    }
   ],
   "source": [
    "spam = {'bar':100}\n",
    "spam['foo']"
   ]
  },
  {
   "cell_type": "markdown",
   "id": "ba79f9f4",
   "metadata": {},
   "source": [
    "### 5. If a dictionary is stored in spam, what is the difference between the expressions &#39;cat&#39; in spam and\n",
    "&#39;cat&#39; in spam.keys()?"
   ]
  },
  {
   "cell_type": "markdown",
   "id": "7d4c0cef",
   "metadata": {},
   "source": [
    "ANS: There is no difference. The in operator checks whether a value exists as a key in the dictionary."
   ]
  },
  {
   "cell_type": "markdown",
   "id": "ffc69609",
   "metadata": {},
   "source": [
    "### 6. If a dictionary is stored in spam, what is the difference between the expressions &#39;cat&#39; in spam and\n",
    "&#39;cat&#39; in spam.values()?"
   ]
  },
  {
   "cell_type": "markdown",
   "id": "de790b7d",
   "metadata": {},
   "source": [
    "ans: 'cat' in spam checks whether there is a 'cat' key in the dictionary, while 'cat' in spam.values() checks whether there is a value 'cat' for one of the keys in spam."
   ]
  },
  {
   "cell_type": "markdown",
   "id": "81135262",
   "metadata": {},
   "source": [
    "### 7. What is a shortcut for the following code?\n",
    "if &#39;color&#39; not in spam:\n",
    "spam[&#39;color&#39;] = &#39;black&#39;"
   ]
  },
  {
   "cell_type": "code",
   "execution_count": 8,
   "id": "0d558a8f",
   "metadata": {},
   "outputs": [
    {
     "data": {
      "text/plain": [
       "'black'"
      ]
     },
     "execution_count": 8,
     "metadata": {},
     "output_type": "execute_result"
    }
   ],
   "source": [
    "spam.setdefault('color', 'black')"
   ]
  },
  {
   "cell_type": "markdown",
   "id": "b0d6912a",
   "metadata": {},
   "source": [
    "### 8. How do you &quot;pretty print&quot; dictionary values using which module and function?"
   ]
  },
  {
   "cell_type": "code",
   "execution_count": 11,
   "id": "e685368d",
   "metadata": {},
   "outputs": [
    {
     "name": "stdout",
     "output_type": "stream",
     "text": [
      "Pos      Lang            Percent    Change    \n",
      "1        Python          33.2       UP        \n",
      "2        Java            23.54      DOWN      \n",
      "3        Ruby            17.22      UP        \n",
      "10       Lua             10.55      DOWN      \n",
      "5        Groovy          9.22       DOWN      \n",
      "6        C               1.55       UP        \n"
     ]
    }
   ],
   "source": [
    "d = {1: [\"Python\", 33.2, 'UP'],\n",
    "     2: [\"Java\", 23.54, 'DOWN'],\n",
    "     3: [\"Ruby\", 17.22, 'UP'],\n",
    "     10: [\"Lua\", 10.55, 'DOWN'],\n",
    "     5: [\"Groovy\", 9.22, 'DOWN'],\n",
    "     6: [\"C\", 1.55, 'UP']\n",
    "     }\n",
    "\n",
    "print (\"{:<8} {:<15} {:<10} {:<10}\".format('Pos','Lang','Percent','Change'))\n",
    "for k, v in d.items():\n",
    "    lang, perc, change = v\n",
    "    print (\"{:<8} {:<15} {:<10} {:<10}\".format(k, lang, perc, change))"
   ]
  }
 ],
 "metadata": {
  "kernelspec": {
   "display_name": "Python 3 (ipykernel)",
   "language": "python",
   "name": "python3"
  },
  "language_info": {
   "codemirror_mode": {
    "name": "ipython",
    "version": 3
   },
   "file_extension": ".py",
   "mimetype": "text/x-python",
   "name": "python",
   "nbconvert_exporter": "python",
   "pygments_lexer": "ipython3",
   "version": "3.9.7"
  }
 },
 "nbformat": 4,
 "nbformat_minor": 5
}
