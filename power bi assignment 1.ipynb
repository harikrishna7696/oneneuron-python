{
 "cells": [
  {
   "cell_type": "markdown",
   "metadata": {},
   "source": [
    "#### 1. What do you mean by BI? Explain."
   ]
  },
  {
   "cell_type": "markdown",
   "metadata": {},
   "source": [
    "    BI(Business Intelligence) is a set of processes, architectures, and technologies that convert raw data into meaningful information that drives profitable business actions. It is a suite of software and services to transform data into actionable intelligence and knowledge.\n",
    "\n",
    "        I has a direct impact on organization’s strategic, tactical and operational business decisions. BI supports fact-based decision making using historical data rather than assumptions and gut feeling."
   ]
  },
  {
   "cell_type": "markdown",
   "metadata": {},
   "source": [
    "#### 2.How Power-BI helps in BI, and how does it help Analysts? Explain."
   ]
  },
  {
   "cell_type": "markdown",
   "metadata": {},
   "source": [
    "##### Data modeling with ease\n",
    "With Power BI Desktop, you can easily prepare data using data modeling tools and save a lot of time. You can easily consume, transform, incorporate and augment data in Power BI Desktop. Power BI Desktop connects to a lot of data sources on-premises and cloud and transforms information into interactive visuals.\n",
    "\n",
    "##### Provides advanced analytics\n",
    "Power BI Desktop gives you the capability to dig deeper into data and discover patterns that guide you with actionable insights. It carries out advanced analytics to provide you with important acumens.\n",
    "\n",
    "##### Interactive reports\n",
    "Power BI Desktop for Power BI report provides you with user dashboards and makes it convenient to edit and display data as per your requirements. You can create custom reports and visualizations, perform calculations and set access levels for individual users and data sources"
   ]
  },
  {
   "cell_type": "markdown",
   "metadata": {},
   "source": [
    "#### 3. Explain Descriptive analytics?"
   ]
  },
  {
   "cell_type": "markdown",
   "metadata": {},
   "source": [
    "Descriptive analytics is a type of data analytics that looks at past data to give an account of what has happened. Results are typically presented in reports, dashboards, bar charts and other visualizations that are easily understood.\n",
    "\n",
    "The field of data analytics is generally divided into four main types: descriptive analytics, diagnostic analytics, predictive analytics and prescriptive analytics. A fifth type, real-time analytics, analyzes data as it's generated, collected or updated."
   ]
  },
  {
   "cell_type": "markdown",
   "metadata": {},
   "source": [
    "#### 4. Explain Predictive analytics?"
   ]
  },
  {
   "cell_type": "markdown",
   "metadata": {},
   "source": [
    "Predictive analytics uses mathematical modeling tools to generate predictions about an unknown fact, characteristic, or event. “It’s about taking the data that you know exists and building a mathematical model from that data to help you make predictions about somebody [or something] not yet in that data set\n",
    "\n",
    "An analyst’s role in predictive analysis is to assemble and organize the data, identify which type of mathematical model applies to the case at hand, and then draw the necessary conclusions from the results. They are often also tasked with communicating those conclusions to stakeholders effectively and engagingly. "
   ]
  },
  {
   "cell_type": "markdown",
   "metadata": {},
   "source": [
    "#### 5. Explain perspective analytics?"
   ]
  },
  {
   "cell_type": "markdown",
   "metadata": {},
   "source": [
    "Due to the sheer amount of data now available to companies, it’s easier than ever to leverage information collected to drive real business value. However, it can be tricky to identify the best way to analyze this data. \n",
    "\n",
    "Applying prescriptive analytics is one option that can assist your business in identifying data-driven strategic decisions and help you avoid the limitations of standard data analytics practices, including:\n",
    "\n",
    "Exhausting valuable resources on housing data that does not inform business decisions\n",
    "Spending time sifting through unutilized data sets\n",
    "Missing out on unique revenue streams and insights "
   ]
  },
  {
   "cell_type": "markdown",
   "metadata": {},
   "source": [
    "#### 6. Write five real-life questions that PowerBi can solve.\n"
   ]
  },
  {
   "cell_type": "markdown",
   "metadata": {},
   "source": [
    "1. A Telephone network organization may look around for a reason for \"why customers shift to other networks?\" by using the details of customers and their feebback who changed their network to other network operators.\n",
    "2. An E-commerce company might dig their data to see drop is sales, patterns in sales, understand customer buying behavior to know reason \"Why sales is not increasing?\" despite demand is there in market.\n",
    "3. A software product company may need to know \"Why should users opt competitor company products/services?\" to maintain their current product sustainability and provide better service to their users.\n",
    "4. Government may need to know \"About what topic are most people talking about?\" during any social evil event occurs that led to burst in protests and revolts to stop the spread of false information or to to mute people voices in specific regions to outside regions.\n",
    "5. A Dataware warehouse will need to know \"Why security breach occured in database?, what data is lost?\" to concentrate on data recovery and tightening the security layer of database."
   ]
  }
 ],
 "metadata": {
  "kernelspec": {
   "display_name": "Python 3 (ipykernel)",
   "language": "python",
   "name": "python3"
  },
  "language_info": {
   "codemirror_mode": {
    "name": "ipython",
    "version": 3
   },
   "file_extension": ".py",
   "mimetype": "text/x-python",
   "name": "python",
   "nbconvert_exporter": "python",
   "pygments_lexer": "ipython3",
   "version": "3.9.7"
  }
 },
 "nbformat": 4,
 "nbformat_minor": 2
}
