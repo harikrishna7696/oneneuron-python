{
 "cells": [
  {
   "cell_type": "markdown",
   "id": "40425855",
   "metadata": {},
   "source": [
    "## Assignment 4"
   ]
  },
  {
   "cell_type": "markdown",
   "id": "67f88d56",
   "metadata": {},
   "source": [
    "### 1. What exactly is []?\n",
    "The empty list value, which is a list value that contains no items. This is similar to how '' is the empty string value."
   ]
  },
  {
   "cell_type": "markdown",
   "id": "e95ed042",
   "metadata": {},
   "source": [
    "### 13. What can you do to save a programme from crashing if it encounters an error?\n",
    "Place the line of code that might cause an error in a try clause."
   ]
  },
  {
   "cell_type": "markdown",
   "id": "3099d725",
   "metadata": {},
   "source": [
    "### 14. What is the purpose of the try clause? What is the purpose of the except clause?\n",
    "The code that could potentially cause an error goes in the try clause.\n",
    "\n",
    "The code that executes if an error happens goes in the except clause."
   ]
  },
  {
   "cell_type": "markdown",
   "id": "074d681c",
   "metadata": {},
   "source": [
    "### 2. In a list of values stored in a variable called spam, how would you assign the value 'hello' as the third value?\n",
    "(Assume [2, 4, 6, 8, 10] are in spam.)"
   ]
  },
  {
   "cell_type": "code",
   "execution_count": 26,
   "id": "433f9a53",
   "metadata": {},
   "outputs": [],
   "source": [
    "spam=[2,4,6,8,10]\n",
    "spam[2]='hello'"
   ]
  },
  {
   "cell_type": "code",
   "execution_count": 27,
   "id": "52637e12",
   "metadata": {},
   "outputs": [
    {
     "data": {
      "text/plain": [
       "[2, 4, 'hello', 8, 10]"
      ]
     },
     "execution_count": 27,
     "metadata": {},
     "output_type": "execute_result"
    }
   ],
   "source": [
    "spam"
   ]
  },
  {
   "cell_type": "markdown",
   "id": "3c8639e3",
   "metadata": {},
   "source": [
    "### 3. What is the value of spam[int(int('3' * 2) / 11)]?"
   ]
  },
  {
   "cell_type": "code",
   "execution_count": 32,
   "id": "90bba3d5",
   "metadata": {},
   "outputs": [
    {
     "name": "stdout",
     "output_type": "stream",
     "text": [
      "3.0\n",
      "value of spam[int(int('3' * 2) / 11)]:  8\n"
     ]
    }
   ],
   "source": [
    "value = (int('3' * 2) / 11) # first we find the index\n",
    "print(value) # it giving a float numbet\n",
    "index = int(value) # lets convert into int\n",
    "a = spam[index] # accessing the value\n",
    "print(\"value of spam[int(int('3' * 2) / 11)]: \", a)"
   ]
  },
  {
   "cell_type": "code",
   "execution_count": 33,
   "id": "11cbdbee",
   "metadata": {},
   "outputs": [
    {
     "data": {
      "text/plain": [
       "8"
      ]
     },
     "execution_count": 33,
     "metadata": {},
     "output_type": "execute_result"
    }
   ],
   "source": [
    "spam[int(int('3' * 2) / 11)] # we can do it in one line also"
   ]
  },
  {
   "cell_type": "markdown",
   "id": "3b8fa6cd",
   "metadata": {},
   "source": [
    "### 4. What is the value of spam[-1]?"
   ]
  },
  {
   "cell_type": "code",
   "execution_count": 35,
   "id": "42a2f87d",
   "metadata": {},
   "outputs": [
    {
     "name": "stdout",
     "output_type": "stream",
     "text": [
      "[2, 4, 'hello', 8, 10]\n"
     ]
    },
    {
     "data": {
      "text/plain": [
       "10"
      ]
     },
     "execution_count": 35,
     "metadata": {},
     "output_type": "execute_result"
    }
   ],
   "source": [
    "print(spam)\n",
    "# finding the value of spam[-1]\n",
    "spam[-1] # it give out 10, -1 reverse indexing the list, -1 means last first value"
   ]
  },
  {
   "cell_type": "markdown",
   "id": "e1d1db8e",
   "metadata": {},
   "source": [
    "### 5. What is the value of spam[:2]?"
   ]
  },
  {
   "cell_type": "code",
   "execution_count": 39,
   "id": "7c1221af",
   "metadata": {},
   "outputs": [
    {
     "name": "stdout",
     "output_type": "stream",
     "text": [
      "[2, 4, 'hello', 8, 10]\n"
     ]
    },
    {
     "data": {
      "text/plain": [
       "[2, 4]"
      ]
     },
     "execution_count": 39,
     "metadata": {},
     "output_type": "execute_result"
    }
   ],
   "source": [
    "print(spam)\n",
    "# spam[:2] # slicing of the list it print 0, 1 index values end will exluded\n",
    "spam[:2]"
   ]
  },
  {
   "cell_type": "markdown",
   "id": "72a71a99",
   "metadata": {},
   "source": [
    "Let&#39;s pretend bacon has the list [3.14, &#39;cat,&#39; 11, &#39;cat,&#39; True] for the next three questions."
   ]
  },
  {
   "cell_type": "markdown",
   "id": "16207dbf",
   "metadata": {},
   "source": [
    "### 6. What is the value of bacon.index('cat')?"
   ]
  },
  {
   "cell_type": "code",
   "execution_count": 43,
   "id": "036efa83",
   "metadata": {},
   "outputs": [
    {
     "name": "stdout",
     "output_type": "stream",
     "text": [
      "[3.14, 'cat', 11, 'cat', True]\n"
     ]
    },
    {
     "data": {
      "text/plain": [
       "1"
      ]
     },
     "execution_count": 43,
     "metadata": {},
     "output_type": "execute_result"
    }
   ],
   "source": [
    "bacon = [3.14, 'cat', 11, 'cat', True]\n",
    "print(bacon)\n",
    "bacon.index(\"cat\") # the answer is 1, because it will loop throght 0, it will give first occurance index"
   ]
  },
  {
   "cell_type": "markdown",
   "id": "0af065cc",
   "metadata": {},
   "source": [
    "### 7. How does bacon.append(99) change the look of the list value in bacon?"
   ]
  },
  {
   "cell_type": "code",
   "execution_count": 44,
   "id": "909c6c7f",
   "metadata": {},
   "outputs": [
    {
     "name": "stdout",
     "output_type": "stream",
     "text": [
      "before adding 99:  [3.14, 'cat', 11, 'cat', True]\n",
      "after adding 99:  [3.14, 'cat', 11, 'cat', True, 99]\n"
     ]
    }
   ],
   "source": [
    "print(\"before adding 99: \", bacon)\n",
    "bacon.append(99)\n",
    "print(\"after adding 99: \", bacon)"
   ]
  },
  {
   "cell_type": "markdown",
   "id": "7a34ddb8",
   "metadata": {},
   "source": [
    "### 8. How does bacon.remove('cat') change the look of the list in bacon?"
   ]
  },
  {
   "cell_type": "code",
   "execution_count": 46,
   "id": "7cbaaf70",
   "metadata": {},
   "outputs": [
    {
     "data": {
      "text/plain": [
       "[3.14, 11, 'cat', True, 99]"
      ]
     },
     "execution_count": 46,
     "metadata": {},
     "output_type": "execute_result"
    }
   ],
   "source": [
    "# remove(\"value\") it remove first occurance if same multiple object present in list\n",
    "# else it remove one\n",
    "bacon.remove(\"cat\") # absorver the first list there are two cat it removed"
   ]
  },
  {
   "cell_type": "markdown",
   "id": "5022a5c9",
   "metadata": {},
   "source": [
    "### 9. What are the list concatenation and list replication operators?\n",
    "The operator for list concatenation is +, while the operator for replication is *."
   ]
  },
  {
   "cell_type": "markdown",
   "id": "40836115",
   "metadata": {},
   "source": [
    "### 10. What is difference between the list methods append() and insert()?\n",
    "While append() will add values only to the end of a list, insert() can add them anywhere in the list."
   ]
  },
  {
   "cell_type": "code",
   "execution_count": 47,
   "id": "be061e02",
   "metadata": {},
   "outputs": [
    {
     "data": {
      "text/plain": [
       "[3.14, 11, 'cat', True, 99]"
      ]
     },
     "execution_count": 47,
     "metadata": {},
     "output_type": "execute_result"
    }
   ],
   "source": [
    "bacon"
   ]
  },
  {
   "cell_type": "code",
   "execution_count": 49,
   "id": "193e7c78",
   "metadata": {},
   "outputs": [
    {
     "data": {
      "text/plain": [
       "[3.14, 11, 'cat', True, 99, 'hari']"
      ]
     },
     "execution_count": 49,
     "metadata": {},
     "output_type": "execute_result"
    }
   ],
   "source": [
    "bacon.append(\"hari\") # append will add element at last \n",
    "bacon"
   ]
  },
  {
   "cell_type": "code",
   "execution_count": 50,
   "id": "a864c492",
   "metadata": {},
   "outputs": [
    {
     "data": {
      "text/plain": [
       "[3.14, 11, 'one neuron', 'cat', True, 99, 'hari']"
      ]
     },
     "execution_count": 50,
     "metadata": {},
     "output_type": "execute_result"
    }
   ],
   "source": [
    "bacon.insert(2, \"one neuron\") # i am replacing adding the one neuron at index 2\n",
    "# insert(index, value) # it add element at specific index\n",
    "bacon"
   ]
  },
  {
   "cell_type": "markdown",
   "id": "6dca257c",
   "metadata": {},
   "source": [
    "### 11. What are the two methods for removing items from a list?\n",
    "The pop() statement and the remove() list method are two ways to remove values from a list."
   ]
  },
  {
   "cell_type": "code",
   "execution_count": 51,
   "id": "66f20a01",
   "metadata": {},
   "outputs": [
    {
     "name": "stdout",
     "output_type": "stream",
     "text": [
      "befor pop():  [3.14, 11, 'one neuron', 'cat', True, 99, 'hari']\n",
      "after pop():  [3.14, 11, 'one neuron', 'cat', True, 99]\n"
     ]
    }
   ],
   "source": [
    "# pop remover using index if any index not provided \n",
    "# it remove last element default\n",
    "print(\"befor pop(): \", bacon)\n",
    "bacon.pop() #it remove last element hari\n",
    "print(\"after pop(): \", bacon)"
   ]
  },
  {
   "cell_type": "code",
   "execution_count": 52,
   "id": "c7baf0af",
   "metadata": {},
   "outputs": [
    {
     "data": {
      "text/plain": [
       "[3.14, 11, 'one neuron', True, 99]"
      ]
     },
     "execution_count": 52,
     "metadata": {},
     "output_type": "execute_result"
    }
   ],
   "source": [
    "bacon.pop(3) # it remove the 3 index cat\n",
    "bacon"
   ]
  },
  {
   "cell_type": "code",
   "execution_count": 53,
   "id": "d6d34e29",
   "metadata": {},
   "outputs": [
    {
     "data": {
      "text/plain": [
       "[3.14, 11, 'one neuron', True]"
      ]
     },
     "execution_count": 53,
     "metadata": {},
     "output_type": "execute_result"
    }
   ],
   "source": [
    "# remove will delete using value or element\n",
    "bacon.remove(99)\n",
    "bacon"
   ]
  },
  {
   "cell_type": "markdown",
   "id": "6396cb17",
   "metadata": {},
   "source": [
    "### 12. Describe how list values and string values are identical.\n",
    "Both lists and strings can be passed to len(), have indexes and slices, be used in for loops, be concatenated or replicated, and be used with the in and not in operators."
   ]
  },
  {
   "cell_type": "code",
   "execution_count": 55,
   "id": "5388c6dd",
   "metadata": {},
   "outputs": [
    {
     "data": {
      "text/plain": [
       "4"
      ]
     },
     "execution_count": 55,
     "metadata": {},
     "output_type": "execute_result"
    }
   ],
   "source": [
    "bacon\n",
    "len(bacon)"
   ]
  },
  {
   "cell_type": "markdown",
   "id": "2237a787",
   "metadata": {},
   "source": [
    "### 13. What's the difference between tuples and lists?\n",
    "Lists are mutable; they can have values added, removed, or changed. Tuples are immutable; they cannot be changed at all. Also, tuples are written using parentheses, ( and ), while lists use the square brackets, [ and ]."
   ]
  },
  {
   "cell_type": "markdown",
   "id": "e4aeddac",
   "metadata": {},
   "source": [
    "#### 14. How do you type a tuple value that only contains the integer 42?"
   ]
  },
  {
   "cell_type": "code",
   "execution_count": 57,
   "id": "325cbbef",
   "metadata": {},
   "outputs": [
    {
     "name": "stdout",
     "output_type": "stream",
     "text": [
      "<class 'tuple'>\n",
      "<class 'int'>\n"
     ]
    }
   ],
   "source": [
    "tup = (42, ) # if we must assign the , creating single tuple\n",
    "t = (42)  # else it will treat as int\n",
    "print(type(tup))\n",
    "print(type(t))"
   ]
  },
  {
   "cell_type": "markdown",
   "id": "8bd6aa0c",
   "metadata": {},
   "source": [
    "### 15. How do you get a list value's tuple form? How do you get a tuple value's list form?\n",
    "The tuple() and list() functions, respectively"
   ]
  },
  {
   "cell_type": "code",
   "execution_count": 62,
   "id": "4ba2dd75",
   "metadata": {},
   "outputs": [
    {
     "name": "stdout",
     "output_type": "stream",
     "text": [
      "<class 'tuple'>\n",
      "[24, 35, 45]\n"
     ]
    },
    {
     "data": {
      "text/plain": [
       "list"
      ]
     },
     "execution_count": 62,
     "metadata": {},
     "output_type": "execute_result"
    }
   ],
   "source": [
    "tup = (24, 35, 45)\n",
    "print(type(tup))\n",
    "li = list(tup) # converting tuple to list()\n",
    "print(li)\n",
    "type(li)"
   ]
  },
  {
   "cell_type": "markdown",
   "id": "d6537e64",
   "metadata": {},
   "source": [
    "### 16. Variables that \"contain\" list values are not necessarily lists themselves. Instead, what do they contain?\n",
    "They contain references to list values."
   ]
  },
  {
   "cell_type": "markdown",
   "id": "7e9de945",
   "metadata": {},
   "source": [
    "### 17. How do you distinguish between copy.copy() and copy.deepcopy()?\n",
    "The copy.copy() function will do a shallow copy of a list, while the copy.deepcopy() function will do a deep copy of a list. That is, only copy.deepcopy() will duplicate any lists inside the list."
   ]
  }
 ],
 "metadata": {
  "kernelspec": {
   "display_name": "Python 3 (ipykernel)",
   "language": "python",
   "name": "python3"
  },
  "language_info": {
   "codemirror_mode": {
    "name": "ipython",
    "version": 3
   },
   "file_extension": ".py",
   "mimetype": "text/x-python",
   "name": "python",
   "nbconvert_exporter": "python",
   "pygments_lexer": "ipython3",
   "version": "3.9.7"
  }
 },
 "nbformat": 4,
 "nbformat_minor": 5
}
