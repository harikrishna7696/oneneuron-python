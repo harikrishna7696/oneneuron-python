{
 "cells": [
  {
   "cell_type": "markdown",
   "id": "161ed290",
   "metadata": {},
   "source": [
    "## Assignment 1"
   ]
  },
  {
   "cell_type": "markdown",
   "id": "c75841f0",
   "metadata": {},
   "source": [
    "### 1. In the below elements which of them are values or an expression? eg:- values can be integer or string and expressions will be mathematical operators.\n",
    "  \n",
    "answers:- \n",
    "* => multiplication\n",
    "'hello' => string\n",
    "-87.8 => float\n",
    "- => subtraction\n",
    "/ => divishion\n",
    "+ => addition\n",
    "6 => integer(int)"
   ]
  },
  {
   "cell_type": "code",
   "execution_count": 3,
   "id": "51f323ad",
   "metadata": {},
   "outputs": [
    {
     "name": "stdout",
     "output_type": "stream",
     "text": [
      "<class 'str'>\n",
      "200\n",
      "<class 'float'>\n",
      "-10\n",
      "0.5\n",
      "30\n"
     ]
    }
   ],
   "source": [
    "a = 10\n",
    "b = 20\n",
    "print(type(\"hello\"))\n",
    "print(a * b)\n",
    "print(type(-87.8))\n",
    "print(a - b)\n",
    "print(a / b)\n",
    "print(a + b)"
   ]
  },
  {
   "cell_type": "markdown",
   "id": "3cf94516",
   "metadata": {},
   "source": [
    "### 2. What is the difference between string and variable?\n",
    "answers:\n",
    "string => string is an array of sequenced characters, string will written in single, double, and triple quotes \n",
    "ex: 'hari', \"krishna\", \"\"\"Python Lover\"\"\"\n",
    "\n",
    "variable => Variable is which is refer to memory location, when we assign a particular value to the \n",
    "variable it store the values reference or memory location.\n",
    "ex:\n",
    "name = \"Hari Krishna\"\n",
    "name is variable \n",
    "\"Hari Krishna\" is value"
   ]
  },
  {
   "cell_type": "code",
   "execution_count": 2,
   "id": "9926f21e",
   "metadata": {},
   "outputs": [
    {
     "data": {
      "text/plain": [
       "'Hari krishna'"
      ]
     },
     "execution_count": 2,
     "metadata": {},
     "output_type": "execute_result"
    }
   ],
   "source": [
    "name = \"Hari krishna\"\n",
    "name"
   ]
  },
  {
   "cell_type": "markdown",
   "id": "27481727",
   "metadata": {},
   "source": [
    "### 3. Describe three different data types.\n",
    "answer: There are 3 data types Strings, List, Tuples\n",
    "string = string is an array of sequenced characters, string will written in single, double, and triple quotes\n",
    "List = It is store multiples of elements, It supports all data types\n",
    "boolen = boolens are most powerfull in python, True and False, They behave like the integers 0 and 1."
   ]
  },
  {
   "cell_type": "markdown",
   "id": "03b9aceb",
   "metadata": {},
   "source": [
    "### 4. What is an expression made up of? What do all expressions do?\n",
    "answer: Expressions are made up of operators and values(or operands), All expressions return a value after evaluating them"
   ]
  },
  {
   "cell_type": "markdown",
   "id": "9c69c7ab",
   "metadata": {},
   "source": [
    "### 5. This assignment statements, like spam = 10. What is the difference between an expression and a statement?\n",
    "answer: Expression here is spam = 10, we have assigned a value 10 to variable spam, Assignment statement is ‘=’ that is used to assign the values, An expression is a sequence of operators and values that produce/return a value and statements are instructions or code that python interpreter can execute"
   ]
  },
  {
   "cell_type": "markdown",
   "id": "aba71497",
   "metadata": {},
   "source": [
    "### 6. After running the following code, what does the variable bacon contain?\n",
    "\n",
    "bacon = 22\n",
    "\n",
    "bacon + 1\n",
    "\n",
    "answer: 23"
   ]
  },
  {
   "cell_type": "markdown",
   "id": "d36fe5c9",
   "metadata": {},
   "source": [
    "### 7. What should the values of the following two terms be?\n",
    "\n",
    "'spam' + 'spamspam'\n",
    "\n",
    "'spam' * 3\n",
    "\n",
    "answer: ’spam’ + ‘spamspam’ returns ‘spamspamspam’\n",
    "\n",
    "‘spam’ * 3 returns ‘spamspamspam’"
   ]
  },
  {
   "cell_type": "markdown",
   "id": "70c9fa43",
   "metadata": {},
   "source": [
    "### 8. Why is eggs a valid variable name while 100 is invalid?\n",
    "\n",
    "answer: Variable name have a particular syntax for assignment\n",
    "\n",
    "eggs is valid because variable name start from either a character or _\n",
    "\n",
    "but 100 is invalid because it starts from a number, the compiler cannot recognize it as a variable and gives an error"
   ]
  },
  {
   "cell_type": "markdown",
   "id": "ca7e58aa",
   "metadata": {},
   "source": [
    "### 9. What three functions can be used to get the integer, floating-point number, or string version of a value?\n",
    "\n",
    "answer: int() function can be used to convert into integer, float() to get a floating point value and str() to get a string value"
   ]
  },
  {
   "cell_type": "markdown",
   "id": "ffc0b23c",
   "metadata": {},
   "source": [
    "### 10. Why does this expression cause an error? How can you fix it?\n",
    "\n",
    "'I have eaten ' + 99 + ' burritos.'\n",
    "\n",
    "answer: This expression causes an error because we are trying to add a integer to a string which cannot be evaluated unless we convert the integer to a string\n",
    "\n",
    "This can be fixed by\n",
    "\n",
    "‘I have eaten’ + ‘ 99’ + ‘ burritos’"
   ]
  }
 ],
 "metadata": {
  "kernelspec": {
   "display_name": "Python 3 (ipykernel)",
   "language": "python",
   "name": "python3"
  },
  "language_info": {
   "codemirror_mode": {
    "name": "ipython",
    "version": 3
   },
   "file_extension": ".py",
   "mimetype": "text/x-python",
   "name": "python",
   "nbconvert_exporter": "python",
   "pygments_lexer": "ipython3",
   "version": "3.9.7"
  }
 },
 "nbformat": 4,
 "nbformat_minor": 5
}
