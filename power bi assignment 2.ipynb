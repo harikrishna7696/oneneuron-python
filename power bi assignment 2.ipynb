{
 "cells": [
  {
   "cell_type": "markdown",
   "metadata": {},
   "source": [
    "#### 1.Explain the advantages of Natural Queries in PowerBi with an example?"
   ]
  },
  {
   "cell_type": "markdown",
   "metadata": {},
   "source": [
    "1. Once dashboard is created and submitted to Business stakeholders, stakeholders find it easy to query on their own in the report submitted by the Analyst Team.\n",
    "2. Power BI shows predictions as user types the query which indeed helps user to query faster and confidently.\n",
    "3. It requires no prior knowledge on any querying language like SQL, excel. Querying is carried out using common and natual English language."
   ]
  },
  {
   "cell_type": "markdown",
   "metadata": {},
   "source": [
    "#### 2.Explain Web Front End(WFE) cluster from Power BI Service Architecture?\n"
   ]
  },
  {
   "cell_type": "markdown",
   "metadata": {},
   "source": [
    "Web Front End cluster (WFE)\n",
    "Back end cluster\n",
    "Web Front End(WFE) cluster manages two important components.\n",
    "\n",
    "Initial connection\n",
    "User Autentication\n",
    "Frond end cluster acts as intermediary between client and back end.\n",
    "\n",
    "It uses Azure Traffic Manager (ATM) to make efficient and quick authentication. It attemps to send user traffic to nearest data center to reduce connection time. The nearest location is found by the DNS record of client attempting to connect.\n",
    "\n",
    "Once user is connected, he/she can access static content & files. To share these files, Power BI uses another technology called Azure Content Delivery(ACD) to efficiently distribute the respective user file contents based on geographic locale.\n",
    "\n",
    "Power BI uses Azure Active Directory (AAD) to authenticate users who sign in to the Power BI service, and in turn, uses the Power BI login credentials whenever a user attempts to access resources that require authentication"
   ]
  },
  {
   "cell_type": "markdown",
   "metadata": {},
   "source": [
    "#### 3. Explain Back End cluster from Power BI Service Architecture?"
   ]
  },
  {
   "cell_type": "markdown",
   "metadata": {},
   "source": [
    "The Power BI services at the back end take care of\n",
    "\n",
    "visualizations\n",
    "datasets\n",
    "storage\n",
    "reports\n",
    "data connections\n",
    "data refreshing and other interactions with Power BI.\n",
    "At the back-end, a web client has only two direct points of interaction\n",
    "\n",
    "Azure API Management\n",
    "Gateway Role.\n",
    "The Gateway Role acts as a gateway between user requests and the Power BI service. Users do not interact directly with any roles other than the Gateway Role. Azure API Management will eventually handle the Gateway Role. Azure API Management will eventually handle the Gateway Role."
   ]
  },
  {
   "cell_type": "markdown",
   "metadata": {},
   "source": [
    "#### 4. What ASP.NET component does in Power BI Service Architecture?\n",
    "ASP.NET is a web development platform provided by microsoft.\n",
    "\n",
    "ASP ==> Active Server Page\n",
    "NET ==> Network Enabled Technologies\n",
    "ASP.NET component plays a major role while publishing reports and dashboards to workspace where stakeholder interact with it in front end provided by Power BI service. Not only that, BI dashboards can also be accessed through other apps like Microsoft teams which embeds BI Applicaiton through ASP.NET framework"
   ]
  },
  {
   "cell_type": "markdown",
   "metadata": {},
   "source": [
    "#### 5. Compare Microsoft Excel and PowerBi Desktop on the following features:\n",
    "- Data import\n",
    "- Data transformation\n",
    "- Modeling\n",
    "- Reporting\n",
    "- Server Deployment\n",
    "- Convert Models\n",
    "- Cost"
   ]
  },
  {
   "cell_type": "markdown",
   "metadata": {},
   "source": [
    "#### 6. List 20 data sources supported by Power Bi desktop.\n",
    "1. Access database\n",
    "2. Oracle Database\n",
    "3. IBM Netezza\n",
    "4. Mysql Database\n",
    "5. Postgre Database\n",
    "6. Teradata Database\n",
    "7. Amazon Redshift\n",
    "8. Impala\n",
    "9. Google Bin query\n",
    "10. Vertica\n",
    "11. Snowflake\n",
    "12. Essbake\n",
    "13. Azure SQL Database\n",
    "14. Sharepoint Online list\n",
    "15. Microsoft Exchange online\n",
    "16. Dynamics 365(online)\n",
    "17. Adobe Analytics\n",
    "18. Github(beta)\n",
    "19. Linkedin Sales Navigator(Beta)\n",
    "20. Twilio(beta)"
   ]
  }
 ],
 "metadata": {
  "kernelspec": {
   "display_name": "Python 3 (ipykernel)",
   "language": "python",
   "name": "python3"
  },
  "language_info": {
   "codemirror_mode": {
    "name": "ipython",
    "version": 3
   },
   "file_extension": ".py",
   "mimetype": "text/x-python",
   "name": "python",
   "nbconvert_exporter": "python",
   "pygments_lexer": "ipython3",
   "version": "3.9.7"
  }
 },
 "nbformat": 4,
 "nbformat_minor": 2
}
