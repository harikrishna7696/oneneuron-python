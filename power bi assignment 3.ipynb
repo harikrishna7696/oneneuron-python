{
 "cells": [
  {
   "cell_type": "markdown",
   "metadata": {},
   "source": [
    "#### 1. List and explain different PowerBi products?\n",
    "Power BI Desktop\n",
    "\n",
    "It is the main Power BI Application where an Analyst can connect application to multiple data sources and analyze data to create reports to business stakeholder. This product comes with free, pro and premium versions which costs accordingly. Free version doesn't allow analysts to share reports to other users.\n",
    "\n",
    "Power BI service\n",
    "\n",
    "It is a product where stakeholders can get access to reports created by developers/Analyst to see performance of their business or whatever task assigned to the Team. stakeholders can get access to them oce analyst publishes them in the shared workspace. They can also create and modify dashboards of their own."
   ]
  },
  {
   "cell_type": "markdown",
   "metadata": {},
   "source": [
    "2. What limitations of Excel, Microsoft solved by PowerBi ?\n",
    "* The maximum number of rows and columns is limited in Excel. Power BI doesn't limit users on dimension of data.\n",
    "* Power BI exceeds Excel feature in Data sources. Power BI can get multiple static, dynamic and streaming data.\n",
    "* The charts and visualizations are much advanced and interactive in Power BI.\n",
    "* The analytical engine is Power BI is much more faster than Excel which can save hours in processing.\n",
    "* Power BI allows users to share reports and data and collaborate with organization where excel cannot."
   ]
  },
  {
   "cell_type": "markdown",
   "metadata": {},
   "source": [
    "#### 3. Explain PowerQuery?\n",
    "Power Query is the Heart of Power BI. Power Query Editor allows user to transform data and create queries in much faster way and load them to main window. Power BI allows a massive variety of ways to transform data. \n",
    "\n",
    "These data transformations could include tasks like:\n",
    "\n",
    "1. Remove columns, rows, blanks\n",
    "2. Convert data types – text, numbers, dates\n",
    "3. Split or merge columns\n",
    "4. Sort & filter columns\n",
    "5. Add calculated columns\n",
    "6. Aggregate or summarize data\n",
    "7. Find & replace text\n"
   ]
  },
  {
   "cell_type": "markdown",
   "metadata": {},
   "source": [
    "#### 4. Explain PowerMap?\n",
    "Power Map feature comes with Power BI as well as Excel from Microsoft. It is a data 3D-visualization tool that lets you map your data and plot more than a million rows of data visually on Bing maps in 3-D format. It is used to plot geo-spacial data in 3D mode. Based on a geographical location, the data can be highlighted."
   ]
  },
  {
   "cell_type": "markdown",
   "metadata": {},
   "source": [
    "#### 5. How powerBi eliminated the need to host SharePoint Server on premises?\n",
    "Connecting to your data source is made possible with the Data Management Gateway(DMG) The awesome part of the DMG is that is makes the connection outside the firewall. That means, no reverse proxies, custom web services or firewalls to deal with!\n",
    "\n",
    "* The DMG must be installed on a non-SQL server in your on premises environment. I could not get anything to work on my SQL server so I am thinking this has to be done on a member server.\n",
    "* A new Gateway must be created via your bi admin center.\n",
    "* You must register the gateway with the on premises DMG client.\n",
    "* You can then store your credentials for the data sources on premises OR in the cloud. The benefit to storing the creds in the cloud is you can recover quicker from a system failure."
   ]
  },
  {
   "cell_type": "markdown",
   "metadata": {},
   "source": [
    "#### 6. Explain the updates done in Power Bi Service(power BI 2.0) as compared to older version ?\n",
    "1. Admin & governance\n",
    "2. Email subscriptions access via Admin API\n",
    "3. Allow sharing links to include your changes to the report\n",
    "4. Announcing Public Preview of Hybrid Tables in Power BI Premium\n",
    "5. Deployment pipelines: assign a workspace to all pipeline stages"
   ]
  }
 ],
 "metadata": {
  "kernelspec": {
   "display_name": "Python 3 (ipykernel)",
   "language": "python",
   "name": "python3"
  },
  "language_info": {
   "codemirror_mode": {
    "name": "ipython",
    "version": 3
   },
   "file_extension": ".py",
   "mimetype": "text/x-python",
   "name": "python",
   "nbconvert_exporter": "python",
   "pygments_lexer": "ipython3",
   "version": "3.9.7"
  }
 },
 "nbformat": 4,
 "nbformat_minor": 2
}
